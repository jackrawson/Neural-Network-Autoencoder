{
  "nbformat": 4,
  "nbformat_minor": 0,
  "metadata": {
    "colab": {
      "name": "Autoencoder.ipynb",
      "provenance": [],
      "collapsed_sections": []
    },
    "kernelspec": {
      "display_name": "Python 3",
      "language": "python",
      "name": "python3"
    },
    "language_info": {
      "codemirror_mode": {
        "name": "ipython",
        "version": 3
      },
      "file_extension": ".py",
      "mimetype": "text/x-python",
      "name": "python",
      "nbconvert_exporter": "python",
      "pygments_lexer": "ipython3",
      "version": "3.7.7"
    }
  },
  "cells": [
    {
      "cell_type": "code",
      "metadata": {
        "colab": {
          "base_uri": "https://localhost:8080/"
        },
        "id": "go1HZlwH-LTQ",
        "outputId": "afbe777e-fcce-40a0-97dc-0864bd8cd6a0"
      },
      "source": [
        "# Uncomment if use Colab\n",
        "from google.colab import drive\n",
        "drive.mount('/content/gdrive', force_remount=True) #mount google drive"
      ],
      "execution_count": null,
      "outputs": [
        {
          "output_type": "stream",
          "text": [
            "Mounted at /content/gdrive\n"
          ],
          "name": "stdout"
        }
      ]
    },
    {
      "cell_type": "code",
      "metadata": {
        "id": "4d2kQ8WqNRwh"
      },
      "source": [
        "# Nothing better to begin with than by importing some necessary dependencies. \n",
        "%matplotlib inline\n",
        "import torch\n",
        "import matplotlib.pyplot as plt\n",
        "import torch.nn as nn\n"
      ],
      "execution_count": null,
      "outputs": []
    },
    {
      "cell_type": "markdown",
      "metadata": {
        "id": "2iTuBhPKNRwm"
      },
      "source": [
        "# Solution for Learning a Family of Functions- Training an autoencoder\n",
        "\n",
        "The following analysis aims to develop a machine learning solution which jointly trains two MLPs (an encoder and a decoder) to autoencode a family of functions and fit a dataset to one of these curves.\n",
        "\n",
        "The autoencoder (encoder) will use linear layers to fit a feature representation. The output of the encoder will be put into the decoder to produce the models prediction using the feature representation and a given set of points.\n",
        "\n",
        "The family of functions learnt will be of the form: \n",
        "\n",
        "$y = f_a(x) = a * sin(x+a)$\n",
        "\n",
        "This sinusoidal family contains two varaibles, x and a. 40 points spaced about between the interval -2 and 2 were generated for each function, each randomly jittered, while a value of a was also randomly sampled from the same interval for each function.\n",
        "\n",
        "The target, y, was derived using the formula, and both the values of x and y were input into the encoder. The number of values input varied with each batch (batch_size was also of variable size). These values were called the context points (of number Nc). Varying the number of context points trained the model to deal with input as such. \n",
        "\n",
        "\n",
        "In effect the model perfomrs two tasks: function selection, and regression. In producing a feature representation output, the model has selected one member of the family of functions to then fit with regression.\n",
        "\n",
        "Furthermore, the feature representation (termed rc here) can be of variable dimensions (rdim). In this model, rc is averaged to produced Rc before feeding into the decoder.\n",
        "\n"
      ]
    },
    {
      "cell_type": "markdown",
      "metadata": {
        "id": "zLJTVOkzvUMA"
      },
      "source": [
        "# 1. Create the training datastet and dataloader"
      ]
    },
    {
      "cell_type": "code",
      "metadata": {
        "colab": {
          "base_uri": "https://localhost:8080/"
        },
        "id": "AYpKQ6d0FWRG",
        "outputId": "6d461d69-aaf7-49a8-bb0a-3273bff9d6fa"
      },
      "source": [
        "Nf = 2000 # the number of different functions f that we will generate\n",
        "Npts = 40 # the number of x values that we will use to generate each fa\n",
        "\n",
        "#Generate 40 x values for each function\n",
        "x = torch.zeros(Nf, Npts, 1)\n",
        "for k in range(Nf):\n",
        "    x[k,:,0] = torch.linspace(-2, 2, Npts)\n",
        "\n",
        "#Add jitter to each x value\n",
        "x += torch.rand_like(x)*0.1\n",
        "\n",
        "#Randomly select a from uniform distribution from -2 to 2\n",
        "a = -2 + 4*torch.rand(Nf).view(-1,1).repeat(1, Npts).unsqueeze(2)\n",
        "\n",
        "#Produce y for all values of x using formula for family of functions\n",
        "y = a*torch.sin(x+a)\n",
        "print(x.shape, y.shape)"
      ],
      "execution_count": null,
      "outputs": [
        {
          "output_type": "stream",
          "text": [
            "torch.Size([2000, 40, 1]) torch.Size([2000, 40, 1])\n"
          ],
          "name": "stdout"
        }
      ]
    },
    {
      "cell_type": "code",
      "metadata": {
        "colab": {
          "base_uri": "https://localhost:8080/",
          "height": 282
        },
        "id": "Dh7iiSTI2QuH",
        "outputId": "ba410e3a-9423-4a63-fcd5-0bf60e074fd7"
      },
      "source": [
        "#Plot example function at index 0\n",
        "plt.plot(x[0],y[0])"
      ],
      "execution_count": null,
      "outputs": [
        {
          "output_type": "execute_result",
          "data": {
            "text/plain": [
              "[<matplotlib.lines.Line2D at 0x7fb73b27ba90>]"
            ]
          },
          "metadata": {
            "tags": []
          },
          "execution_count": 4
        },
        {
          "output_type": "display_data",
          "data": {
            "image/png": "[encoded data removed]",
            "text/plain": [
              "<Figure size 432x288 with 1 Axes>"
            ]
          },
          "metadata": {
            "tags": [],
            "needs_background": "light"
          }
        }
      ]
    },
    {
      "cell_type": "code",
      "metadata": {
        "colab": {
          "base_uri": "https://localhost:8080/"
        },
        "id": "7AtGQUZWPXTM",
        "outputId": "47661913-2af0-45ec-e10f-9611755d89e4"
      },
      "source": [
        "#Create dataset with x and y values generated previously\n",
        "dataset = torch.utils.data.TensorDataset(x, y)\n",
        "\n",
        "#Create dataloader for this dataset, with batch size of 8\n",
        "dataset_iter =  torch.utils.data.DataLoader(dataset, batch_size=8, shuffle=True) #DataLoader object\n",
        "\n",
        "#See dimensions of 1 batch- this includes 8 functions with 40 points for both x and y\n",
        "x, y = next(iter(dataset_iter))\n",
        "print(x.shape, y.shape)"
      ],
      "execution_count": null,
      "outputs": [
        {
          "output_type": "stream",
          "text": [
            "torch.Size([8, 40, 1]) torch.Size([8, 40, 1])\n"
          ],
          "name": "stdout"
        }
      ]
    },
    {
      "cell_type": "code",
      "metadata": {
        "id": "F6DxlstMCvRH",
        "colab": {
          "base_uri": "https://localhost:8080/"
        },
        "outputId": "b1584abe-82f5-4278-a9b0-153016c72258"
      },
      "source": [
        "import numpy as np\n",
        "import random\n",
        "\n",
        "#Create function to select random context pairs from the 40\n",
        "def select_context(x, y, batch_size):\n",
        "\n",
        "#Use randit to produce a value for nc between 3 and 35\n",
        "    N_c = random.randint(3,35)\n",
        "\n",
        "#Make a random choice from the points in the function, Nc times\n",
        "    idx = np.random.choice(np.arange(0,40), size=N_c, replace=False)\n",
        "    c = torch.empty(batch_size,0,2)\n",
        "    for i in idx:\n",
        "        x_c = x[:, i, 0]\n",
        "        x_c = x_c.reshape(batch_size,-1)\n",
        "        y_c = y[:,i,0]\n",
        "        y_c = y_c.reshape(batch_size,-1) \n",
        "        stack = torch.stack((x_c, y_c), dim=2)\n",
        "        c = torch.cat((stack,c), dim=1)\n",
        "    return c\n",
        "\n",
        "c = select_context(x, y, 8)\n",
        "print(c.shape)"
      ],
      "execution_count": null,
      "outputs": [
        {
          "output_type": "stream",
          "text": [
            "torch.Size([8, 26, 2])\n"
          ],
          "name": "stdout"
        }
      ]
    },
    {
      "cell_type": "markdown",
      "metadata": {
        "id": "qaKT7QwGvj_N"
      },
      "source": [
        "# 2. Create the Encoder and Decoder\n"
      ]
    },
    {
      "cell_type": "code",
      "metadata": {
        "id": "CRv3awG-JrqP"
      },
      "source": [
        "#Create encoder from nn.module class\n",
        "class Encoder(torch.nn.Module):\n",
        "    def __init__(self, num_inputs, hidden_dim, num_outputs):\n",
        "        super(Encoder, self).__init__()\n",
        "\n",
        "        #Instantiate variables in class\n",
        "        self.num_inputs = num_inputs\n",
        "        self.hidden_dim = hidden_dim\n",
        "        self.num_outputs = num_outputs\n",
        "\n",
        "        #Create layers including 2 hidden layers using linear layers and ReLU activation functions\n",
        "        self.Linear1 = nn.Linear(num_inputs, hidden_dim)\n",
        "        self.relu1 = nn.ReLU()\n",
        "        self.Linear2 = nn.Linear(hidden_dim, hidden_dim)\n",
        "        self.relu2 = nn.ReLU()\n",
        "        self.Linear3 = nn.Linear(hidden_dim, num_outputs)\n",
        "\n",
        "    #Create forward function which takes context points as input\n",
        "    def forward(self, nc):\n",
        "        out = self.Linear1(nc)\n",
        "        out = self.relu1(out)\n",
        "        out = self.Linear2(out)\n",
        "        out = self.relu2(out)\n",
        "        rc = self.Linear3(out)\n",
        "        \n",
        "        return rc"
      ],
      "execution_count": null,
      "outputs": []
    },
    {
      "cell_type": "code",
      "metadata": {
        "id": "YbRmRnyvOGOS"
      },
      "source": [
        "#Create decoder from nn.module class\n",
        "class Decoder(torch.nn.Module):\n",
        "    def __init__(self, num_inputs, hidden_dim, num_outputs):\n",
        "        super(Decoder, self).__init__()\n",
        "        self.decoder_hdim = hidden_dim\n",
        "        self.num_outputs = num_outputs\n",
        "        \n",
        "        #Create layers including 2 hidden layers using linear layers and ReLU activation functions\n",
        "        self.Linear1 = nn.Linear(num_inputs, hidden_dim)\n",
        "        self.relu1 = nn.ReLU()\n",
        "        self.Linear2 = nn.Linear(hidden_dim, hidden_dim)\n",
        "        self.relu2 = nn.ReLU()\n",
        "        self.Linear3 = nn.Linear(hidden_dim, num_outputs)\n",
        "\n",
        "    #Create forward function which takes rC and x input\n",
        "    def forward(self, rC_xt):\n",
        "        out = self.Linear1(rC_xt)\n",
        "        out = self.relu1(out)\n",
        "        out = self.Linear2(out)\n",
        "        out = self.relu2(out)\n",
        "        out = self.Linear3(out)\n",
        "    \n",
        "        return out"
      ],
      "execution_count": null,
      "outputs": []
    },
    {
      "cell_type": "code",
      "metadata": {
        "id": "NM6vkQkyVV6P"
      },
      "source": [
        "#Set number of inputs and outputs from layers\n",
        "rdim = 2\n",
        "num_inputs, hidden_dim, num_outputs = 2, 5, rdim\n",
        "\n",
        "#Instantiate encoder from Encoder net class with chosen numbers of inputs and outputs\n",
        "encoder = Encoder(num_inputs, hidden_dim, num_outputs)"
      ],
      "execution_count": null,
      "outputs": []
    },
    {
      "cell_type": "code",
      "metadata": {
        "id": "Bwqd5KYvypT2"
      },
      "source": [
        "#Set number of inputs and outputs from layers\n",
        "num_inputs, hidden_dim, num_outputs = 3, 5, 1\n",
        "\n",
        "#Instantiate decoder from Decoder net class with chosen numbers of inputs and outputs\n",
        "decoder = Decoder(num_inputs, hidden_dim, num_outputs)"
      ],
      "execution_count": null,
      "outputs": []
    },
    {
      "cell_type": "markdown",
      "metadata": {
        "id": "RT4ZW6Ygv4wR"
      },
      "source": [
        "# 3. Create the optimizier and loss"
      ]
    },
    {
      "cell_type": "code",
      "metadata": {
        "id": "XUbdCb-_I0qG"
      },
      "source": [
        "#Create loss function\n",
        "loss = nn.MSELoss()\n",
        "\n",
        "#Create optimizer\n",
        "optimizer = torch.optim.Adam(encoder.parameters(), weight_decay=0.005, lr=0.025)"
      ],
      "execution_count": null,
      "outputs": []
    },
    {
      "cell_type": "markdown",
      "metadata": {
        "id": "O5Fa5vvzvuLM"
      },
      "source": [
        "# 4. Training the model and observe the training loss\n"
      ]
    },
    {
      "cell_type": "code",
      "metadata": {
        "id": "P7Z_wXRcZASM"
      },
      "source": [
        "# define training function\n",
        "def train(batch_size, epochs):\n",
        "  loss_list = []\n",
        "  for epoch in range(epochs):\n",
        "    for step, (x, y) in enumerate(dataset_iter):\n",
        "\n",
        "        #Call select context to choose context points\n",
        "        nc = select_context(x, y, batch_size)\n",
        "\n",
        "        #Feed nc into encoder\n",
        "        rc = encoder(nc)\n",
        "\n",
        "        #turn rc output into rC by taking a mean\n",
        "        count = 0\n",
        "        rC = []\n",
        "        for i in rc:\n",
        "          rCi = torch.mean(rc[count], dim=0)\n",
        "          count += 1\n",
        "          rC.append(rCi)\n",
        "        rC = torch.stack(rC)\n",
        "\n",
        "        #Join rC to every x value input\n",
        "        count = 0\n",
        "        rC_xt = []\n",
        "        for j in rc:\n",
        "          empty1 = torch.Tensor(40,1)\n",
        "          empty1.fill_(rC[count][0])\n",
        "          empty2 = torch.Tensor(40,1)\n",
        "          empty2.fill_(rC[count][1])\n",
        "          rC_40 = torch.cat((empty1,empty2), dim=1)\n",
        "          rj = torch.cat((x[count], rC_40), dim=1)\n",
        "          count += 1\n",
        "          rC_xt.append(rj)\n",
        "        rC_xt = torch.stack(rC_xt)\n",
        "        \n",
        "        #Feed this value into the decoder\n",
        "        y_hat = decoder(rC_xt)\n",
        "        \n",
        "        #Optimize, calculate loss, call backward, and update parameters\n",
        "        optimizer.zero_grad()\n",
        "        l = loss(y_hat, y)\n",
        "        l.backward()\n",
        "        optimizer.step()\n",
        "    #Add loss for the epoch to a list for plotting\n",
        "    loss_list.append(l)\n",
        "    print(f'epoch {epoch + 1}, '\n",
        "          f'loss: {l}')\n",
        "    \n",
        "  return y_hat, loss_list"
      ],
      "execution_count": null,
      "outputs": []
    },
    {
      "cell_type": "code",
      "metadata": {
        "id": "tnPhJN6vnT-V",
        "colab": {
          "base_uri": "https://localhost:8080/"
        },
        "outputId": "e5b80b6c-3163-4181-98f7-154254a8e741"
      },
      "source": [
        "y_hat, loss_list = train(batch_size = 8, epochs = 15)"
      ],
      "execution_count": null,
      "outputs": [
        {
          "output_type": "stream",
          "text": [
            "epoch 1, loss: 0.3580942749977112\n",
            "epoch 2, loss: 0.243111252784729\n",
            "epoch 3, loss: 0.31102263927459717\n",
            "epoch 4, loss: 0.27087053656578064\n",
            "epoch 5, loss: 0.273127943277359\n",
            "epoch 6, loss: 0.43829435110092163\n",
            "epoch 7, loss: 0.37963756918907166\n",
            "epoch 8, loss: 0.3296130299568176\n",
            "epoch 9, loss: 0.3713451325893402\n",
            "epoch 10, loss: 0.4240763783454895\n",
            "epoch 11, loss: 0.35352975130081177\n",
            "epoch 12, loss: 0.38376694917678833\n",
            "epoch 13, loss: 0.3885493576526642\n",
            "epoch 14, loss: 0.2853143811225891\n",
            "epoch 15, loss: 0.6750056743621826\n"
          ],
          "name": "stdout"
        }
      ]
    },
    {
      "cell_type": "code",
      "metadata": {
        "id": "BOUm1qTanUA-",
        "colab": {
          "base_uri": "https://localhost:8080/",
          "height": 302
        },
        "outputId": "60bfddbf-1b38-48d3-deed-808481d5e8b3"
      },
      "source": [
        "#Modify loss list for plotting\n",
        "loss_list2 = torch.stack(loss_list)\n",
        "loss_list3 = loss_list2.detach().numpy()\n",
        "\n",
        "#Create loss plot\n",
        "plt.plot(loss_list3)\n",
        "plt.xlabel('Epochs', size = 15)\n",
        "plt.ylabel('Loss', size = 15)"
      ],
      "execution_count": null,
      "outputs": [
        {
          "output_type": "execute_result",
          "data": {
            "text/plain": [
              "Text(0, 0.5, 'Loss')"
            ]
          },
          "metadata": {
            "tags": []
          },
          "execution_count": 15
        },
        {
          "output_type": "display_data",
          "data": {
            "image/png": "[encoded data removed]",
            "text/plain": [
              "<Figure size 432x288 with 1 Axes>"
            ]
          },
          "metadata": {
            "tags": [],
            "needs_background": "light"
          }
        }
      ]
    },
    {
      "cell_type": "markdown",
      "metadata": {
        "id": "hBTIQ3Ax-LTb"
      },
      "source": [
        "# 5. Model evaluation, testing, and plotting  "
      ]
    },
    {
      "cell_type": "code",
      "metadata": {
        "id": "5Iz0Su2U-LTb",
        "colab": {
          "base_uri": "https://localhost:8080/"
        },
        "outputId": "ba7b11a1-908f-4a5c-af18-248cbecf413e"
      },
      "source": [
        "#Create test data\n",
        "import pickle\n",
        "path_to_the_pickle = '/content/gdrive/MyDrive/Colab Notebooks/test_data.pkl'\n",
        "test_data =pickle.load(open(path_to_the_pickle,'rb'))\n",
        "# 6 test functions\n",
        "i = 2 # i=1,..6\n",
        "name= 'function_num_{}'.format(i)\n",
        "x_c=test_data[name]['context_pairs'][0]\n",
        "y_c=test_data[name]['context_pairs'][1]\n",
        "x_t =test_data[name]['x']\n",
        "print(x_c.shape)"
      ],
      "execution_count": null,
      "outputs": [
        {
          "output_type": "stream",
          "text": [
            "torch.Size([1, 23, 1])\n"
          ],
          "name": "stdout"
        }
      ]
    },
    {
      "cell_type": "code",
      "metadata": {
        "id": "50hWbMRAnRhF"
      },
      "source": [
        "#Define function for testing\n",
        "def test(i):\n",
        "\n",
        "    # Extract context x and y values for input into the encoder,\n",
        "    # and x for testing with decoder test data i\n",
        "    # Use test data indexed by i\n",
        "    name= 'function_num_{}'.format(i)\n",
        "    x_c=test_data[name]['context_pairs'][0]\n",
        "    y_c=test_data[name]['context_pairs'][1]\n",
        "    x_t =test_data[name]['x']\n",
        "\n",
        "    # Stack x and y to form context pairs\n",
        "    comb = torch.stack([x_c, y_c],2)\n",
        "    comb_t = torch.squeeze(comb, dim=3)\n",
        "\n",
        "    #put context pairs into encoder to output rc of rdim (set above to be 2)\n",
        "    rc = encoder(comb_t)\n",
        "    #average rc to create rC\n",
        "    rC = torch.mean(rc, dim=1)\n",
        "\n",
        "    #Create two tensors for each rdim of rC values to add to x test input to decoder \n",
        "    empty1 = torch.Tensor(40,1)\n",
        "    empty1.fill_(rC[0][0])\n",
        "    empty2 = torch.Tensor(40,1)\n",
        "    empty2.fill_(rC[0][1])\n",
        "    empty1 = torch.unsqueeze(empty1, dim=0)\n",
        "    empty2 = torch.unsqueeze(empty2, dim=0)\n",
        "\n",
        "    #Combine rc for each function with x test input\n",
        "    rC_xt = torch.stack((x_t, empty1, empty2), dim=2)\n",
        "    rC_xt = torch.squeeze(rC_xt, dim=3)\n",
        "\n",
        "    #Input into decoder to make predictions, y_hat_test\n",
        "    y_hat_test = decoder(rC_xt)\n",
        "    \n",
        "    return y_hat_test"
      ],
      "execution_count": null,
      "outputs": []
    },
    {
      "cell_type": "code",
      "metadata": {
        "colab": {
          "base_uri": "https://localhost:8080/"
        },
        "id": "QJa4PLUoJZqo",
        "outputId": "b70f37d0-23f1-40d6-9251-0b15e4e74e72"
      },
      "source": [
        "#Call testing function\n",
        "y_hat_test = test(3)\n",
        "print(x_t.shape)"
      ],
      "execution_count": null,
      "outputs": [
        {
          "output_type": "stream",
          "text": [
            "torch.Size([1, 40, 1])\n"
          ],
          "name": "stdout"
        }
      ]
    },
    {
      "cell_type": "code",
      "metadata": {
        "id": "3oi-_laTLCDB"
      },
      "source": [
        "#Convert model readout y_hat and test x values into plottable form\n",
        "x_t2 = torch.squeeze(x_t, dim=2)\n",
        "y_hat_test2 = torch.squeeze(y_hat_test, dim=2)\n",
        "x_t3 = torch.squeeze(x_t2, dim=0)\n",
        "y_hat_test3 = torch.squeeze(y_hat_test2, dim=0)\n",
        "x_t4 = x_t3.detach().numpy()\n",
        "y_hat_test4 = y_hat_test3.detach().numpy()"
      ],
      "execution_count": null,
      "outputs": []
    },
    {
      "cell_type": "code",
      "metadata": {
        "colab": {
          "base_uri": "https://localhost:8080/",
          "height": 284
        },
        "id": "2LAVywuQShO_",
        "outputId": "05f1fb34-e77a-4a63-8dac-bb4ac8330876"
      },
      "source": [
        "#plot predictions from test data\n",
        "plt.plot(x_t4,y_hat_test4)\n"
      ],
      "execution_count": null,
      "outputs": [
        {
          "output_type": "execute_result",
          "data": {
            "text/plain": [
              "[<matplotlib.lines.Line2D at 0x7fb73abc2e10>]"
            ]
          },
          "metadata": {
            "tags": []
          },
          "execution_count": 22
        },
        {
          "output_type": "display_data",
          "data": {
            "image/png": "[encoded data removed]",
            "text/plain": [
              "<Figure size 432x288 with 1 Axes>"
            ]
          },
          "metadata": {
            "tags": [],
            "needs_background": "light"
          }
        }
      ]
    }
  ]
}